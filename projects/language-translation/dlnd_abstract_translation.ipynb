{
 "cells": [
  {
   "cell_type": "markdown",
   "metadata": {
    "collapsed": true
   },
   "source": [
    "# Abstract \"Translation\"\n",
    "In the original project, I trained a sequence to sequence model on a dataset of English and French sentences that can translate new sentences from English to French. This notebook was modified such that abstracts became the English text and the titles became the French text. The abstracts are defined as the source_text and the titles are defined as the target_text\n",
    "## Get the Data\n",
    "The data comes from the discovery set made by Roxana and Diego. The abstracts and titles were further cleaned as shown in another notebook."
   ]
  },
  {
   "cell_type": "code",
   "execution_count": 3,
   "metadata": {},
   "outputs": [],
   "source": [
    "import pandas as pd\n",
    "data = pd.read_csv('clean_abstracts_titles.csv')"
   ]
  },
  {
   "cell_type": "code",
   "execution_count": 4,
   "metadata": {},
   "outputs": [],
   "source": [
    "abstracts = data.abstracts #helper.load_data(source_path)\n",
    "titles = data.titles #helper.load_data(target_path)\n",
    "\n",
    "with open('titles.txt', 'w+') as file:\n",
    "    for title in titles:\n",
    "        file.write(title+'\\n')\n",
    "    file.close()\n",
    "    \n",
    "with open('abstracts.txt', 'w+') as file:\n",
    "    for abstract in abstracts:\n",
    "        file.write(abstract+'\\n')\n",
    "    file.close()"
   ]
  },
  {
   "cell_type": "code",
   "execution_count": 5,
   "metadata": {},
   "outputs": [],
   "source": [
    "import helper\n",
    "import problem_unittests as tests\n",
    "source_path = 'abstracts.txt'\n",
    "target_path = 'titles.txt'\n",
    "source_text = helper.load_data(source_path)\n",
    "target_text = helper.load_data(target_path)\n"
   ]
  },
  {
   "cell_type": "markdown",
   "metadata": {},
   "source": [
    "## Explore the Data\n",
    "Feel free to play around with view_sentence_range to view different parts of the data."
   ]
  },
  {
   "cell_type": "code",
   "execution_count": 37,
   "metadata": {},
   "outputs": [
    {
     "name": "stdout",
     "output_type": "stream",
     "text": [
      "Dataset Stats\n",
      "Roughly the number of unique words: 25685\n",
      "Number of abstracts: 4965\n",
      "Average number of words in an abstract: 201.70231621349447\n",
      "\n",
      "Abstracts 0 to 10:\n",
      "we present an ultra deep survey for neptune trojans using the subaru m and magellan m telescopes the survey reached a detection efficiency in the r band at magnitudes and covered square degrees of sky this depth corresponds to neptune trojans that are about km in radius assuming an albedo of a paucity of smaller neptune trojans radii km compared to larger ones was found the brightest neptune trojans appear to follow a steep power law slope q similar to the brightest objects in the other known stable reservoirs such as the kuiper belt, jupiter trojans and main belt asteroids we find a roll over for the neptune trojans that occurs around a radii of r km mags, which is also very similar to the other stable reservoirs all the observed stable regions in the the solar system show evidence for missing intermediate sized planetesimals misps this indicates a primordial and not collisional origin, which suggests planetesimal formation proceeded directly from small to large objects the scarcity of intermediate and smaller sized neptune trojans may limit them as being a strong source for the short period comets\n",
      "significant proton fluxes were detected in the near wake region of the moon by an ion mass spectrometer on board chandrayaan the energy of these nightside protons is slightly higher than the energy of the solar wind protons the protons are detected close to the lunar equatorial plane at a circ solar zenith angle, ie, circ behind the terminator at a height of km the protons come from just above the local horizon, and move along the magnetic field in the solar wind reference frame we compared the observed proton flux with the predictions from analytical models of an electrostatic plasma expansion into a vacuum the observed velocity was higher than the velocity predicted by analytical models by a factor of to the simple analytical models cannot explain the observed ion dynamics along the magnetic field in the vicinity of the moon\n",
      "we study the role of ambipolar diffusion ad on the non linear evolution of the mri in protoplanetary disks using the strong coupling limit, which applies when the electron recombination time is much shorter than the orbital time the effect of ad in this limit is characterized by the dimensionless number am, the frequency of which neutral particles collide with ions normalized to the orbital frequency we perform three dimensional unstratified shearing box simulations of the mri over a wide range of am as well as different magnetic field strengths and geometries the saturation level of the mri turbulence depends on the magnetic geometry and increases with the net magnetic flux there is an upper limit to the net flux for sustained turbulence, corresponding to the requirement that the most unstable vertical wavelength be less than the disk scale height correspondingly, at a given am, there exists a maximum value of the turbulent stress alphamax for am, the largest stress is associated with a field geometry that has both net vertical and toroidal flux in this case, we confirm the results of linear analyses that show the fastest growing mode has a non zero radial wave number with growth rate exceeding the pure vertical field case we find there is a very tight correlation between the turbulent stress alpha and the plasma betapgaspmagalpha at the saturated state of the mri turbulence regardless of field geometry, and alphamax rapidly decreases with decreasing am in particular, we quote alphamax for am and alphamax for am\n",
      "measurements of the interplanetary magnetic field imf over several solar cycles do not agree with computed values of open magnetic flux from potential field extrapolations the discrepancy becomes greater around solar maximum in each cycle, when the imf can be twice as strong as predicted by the potential field model here we demonstrate that this discrepancy may be resolved by allowing for electric currents in the low corona below solar radii we present a quasi static numerical model of the large scale coronal magnetic evolution, which systematically produces these currents through flux emergence and shearing by surface motions the open flux is increased by at solar maximum, but only at solar minimum, bringing it in line with estimates from imf measurements the additional open flux in the non potential model arises through inflation of the magnetic field by electric currents, with super imposed fluctuations due to coronal mass ejections the latter are modelled by the self consistent ejection of twisted magnetic flux ropes\n",
      "we have designed an inquiry based laboratory activity on transiting extrasolar planets for an introductory college level astronomy class the activity was designed with the intent of simultaneously teaching science process skills and factual content about transits and light curves in the activity, groups of two to four students each formulate a specific science question and design and carry out an investigation using a table top model of a star and orbiting planet each group then presents their findings to other students in their class in a final presentation, the instructors integrate students findings with a summary of how measured light curves indicate properties of planetary systems the activity debuted at hartnell college in november and has also been adapted for a lecture based astronomy course at uc santa cruz we present the results of student surveys before and after the astronomy course at hartnell and discuss how well our activity promotes students confidence and identity as scientists, relative to traditional lab activities\n",
      "several photometric surveys for short period transiting giant planets have targeted a number of open clusters, but no convincing detections have been made although each individual survey typically targeted an insufficient number of stars to expect a detection assuming the frequency of short period giant planets found in surveys of field stars, we ask whether the lack of detections from the ensemble of open cluster surveys is inconsistent with expectations from the field planet population we select a subset of existing transit surveys with well defined selection criteria and quantified detection efficiencies, and statistically combine their null results to show that the upper limit on the planet fraction is and for rj and rj planets, respectively in the p day period range for the period range of p days we find upper limits of and for rj and rj, respectively comparing these results to the frequency of short period giant planets around field stars in both radial velocity and transit surveys, we conclude that there is no evidence to suggest that open clusters support a fundamentally different planet population than field stars given the available data\n",
      "as an alternative to either directly assimilating radiances or the naive use of retrieved profiles of temperature, humidity, aerosols, and chemical species, a strategy is described that makes use of the so called averaging kernel ak and other information from the retrieval process this ak approach has the potential to improve the use of remotely sensed observations of the atmosphere first, we show how to use the ak and the retrieval noise covariance to transform the retrieved quantities into observations that are unbiased and have uncorrelated errors, and to eliminate both the smoothing inherent in the retrieval process and the effect of the prior since the effect of the prior is removed, any prior, including the forecast from the data assimilation cycle can be used then we show how to transform this result into eof space, when a truncated eof series has been used in the retrieval process this provides a degree of data compression and eliminates those transformed variables that have very small information content in both approaches a vertical interpolation from the dynamical model coordinate to the radiative transfer coordinate is required we define an algorithm using the eof representation to optimize this vertical interpolation\n",
      "correlations between stellar properties and the occurrence rate of exoplanets can be used to inform the target selection of future planet search efforts and provide valuable clues about the planet formation process we analyze a sample of stars drawn from the california planet survey targets to determine the empirical functional form describing the likelihood of a star harboring a giant planet as a function of its mass and metallicity our stellar sample ranges from m dwarfs with masses as low as msun to intermediate mass subgiants with masses as high as msun in agreement with previous studies, our sample exhibits a planet metallicity correlation at all stellar masses the fraction of stars that harbor giant planets scales as f propto feh we can rule out a flat metallicity relationship among our evolved stars at confidence, which argues that the high metallicities of stars with planets are not likely due to convective envelope pollution our data also rule out a constant planet occurrence rate for feh , indicating that giant planets continue to become rarer at sub solar metallicities we also find that planet occurrence increases with stellar mass f propto mstar, characterized by a rise from around m dwarfs msun to around a stars msun, at solar metallicity we argue that the correlation between stellar properties and giant planet occurrence is strong supporting evidence of the core accretion model of planet formation\n",
      "among other things, studies of the formation and evolution of planetary systems currently draw on two important observational resources the precise characterization available for planets that transit their parent stars and the frequency and nature of systems with multiple planets thus far, the study of transiting exoplanets has focused almost exclusively on systems with only one planet, except for considering the influence of additional planets on the transit light curve, mostly through transit timing variations ttvs this work considers systems where multiple planets are seen to transit the same star and concludes that such multi transiting systems will be the most information rich planetary systems besides our own solar system five new candidate multi transiting systems from emphkepler have been announced in steffen et al , though these candidates have not yet been fully confirmed as planets in anticipation of the likely confirmation of multi transiting systems, we discuss the value of these systems in detail for example, proper interpretation of transit timing variations is significantly improved in multi transiting systems the true mutual inclination, a valuable probe of planetary formation, can also be well determined in certain systems, especially through rossiter mclaughlin measurements of each planet in addition, such systems may undergo predictable and observable mutual events, where one planet crosses over the other, which allow for unique constraints on various physical and orbital parameters, particularly the mutual inclination\n",
      "we discuss one important aspect of waldmeier effect which says that the stronger cycles rise rapidly than weaker cycles we studied four different data set of solar activity indices, and find strong linear correlation between rise rates and amplitudes of solar activity we study this effect theoretically by introducing suitable stochastic fluctuations in our regular solar dynamo model\n",
      "\n",
      "Titles 0 to 10:\n",
      "the size distribution of the neptune trojans and the missing intermediate sized planetesimals\n",
      "protons in the near lunar wake observed by the sub kev atom reflection analyzer on board chandrayaan\n",
      "effect of ambipolar diffusion on the non linear evolution of magnetorotational instability in weakly ionized disks\n",
      "a non potential model for the suns open magnetic flux\n",
      "a college level inquiry based laboratory activity on transiting planets\n",
      "ensemble analysis of open cluster transit surveys upper limits on the frequency of short period planets consistent with the field\n",
      "a retrieval strategy for interactive ensemble data assimilation\n",
      "giant planet occurrence in the stellar mass metallicity plane\n",
      "the value of systems with multiple transiting planets\n",
      "correlation between the rise rate and the amplitude of the solar magnetic cycles\n"
     ]
    }
   ],
   "source": [
    "view_sentence_range = (0, 10)\n",
    "\n",
    "\"\"\"\n",
    "DON'T MODIFY ANYTHING IN THIS CELL\n",
    "\"\"\"\n",
    "import numpy as np\n",
    "\n",
    "print('Dataset Stats')\n",
    "print('Roughly the number of unique words: {}'.format(len({word: None for word in source_text.split()})))\n",
    "\n",
    "sentences = source_text.split('\\n')\n",
    "word_counts = [len(sentence.split()) for sentence in sentences]\n",
    "print('Number of abstracts: {}'.format(len(sentences)))\n",
    "print('Average number of words in an abstract: {}'.format(np.average(word_counts)))\n",
    "\n",
    "print()\n",
    "print('Abstracts {} to {}:'.format(*view_sentence_range))\n",
    "print('\\n'.join(source_text.split('\\n')[view_sentence_range[0]:view_sentence_range[1]]))\n",
    "print()\n",
    "print('Titles {} to {}:'.format(*view_sentence_range))\n",
    "print('\\n'.join(target_text.split('\\n')[view_sentence_range[0]:view_sentence_range[1]]))"
   ]
  },
  {
   "cell_type": "markdown",
   "metadata": {},
   "source": [
    "## Implement Preprocessing Function\n",
    "### Text to Word Ids\n",
    "As you did with other RNNs, you must turn the text into a number so the computer can understand it. In the function `text_to_ids()`, you'll turn `source_text` and `target_text` from words to ids.  However, you need to add the `<EOS>` word id at the end of `target_text`.  This will help the neural network predict when the sentence should end.\n",
    "\n",
    "You can get the `<EOS>` word id by doing:\n",
    "```python\n",
    "target_vocab_to_int['<EOS>']\n",
    "```\n",
    "You can get other word ids using `source_vocab_to_int` and `target_vocab_to_int`."
   ]
  },
  {
   "cell_type": "code",
   "execution_count": 38,
   "metadata": {},
   "outputs": [
    {
     "name": "stdout",
     "output_type": "stream",
     "text": [
      "Tests Passed\n"
     ]
    }
   ],
   "source": [
    "def text_to_ids(source_text, target_text, source_vocab_to_int, target_vocab_to_int):\n",
    "    \"\"\"\n",
    "    Convert source and target text to proper word ids\n",
    "    :param source_text: String that contains all the source text.\n",
    "    :param target_text: String that contains all the target text.\n",
    "    :param source_vocab_to_int: Dictionary to go from the source words to an id\n",
    "    :param target_vocab_to_int: Dictionary to go from the target words to an id\n",
    "    :return: A tuple of lists (source_id_text, target_id_text)\n",
    "    \"\"\"\n",
    "    # TODO: Implement Function\n",
    "    source_id_text = [[source_vocab_to_int[word] for word in sentence.split()] \\\n",
    "                      for sentence in source_text.split('\\n')] \n",
    "    target_id_text = [[target_vocab_to_int[word] for word in sentence.split()] + [target_vocab_to_int['<EOS>']] \\\n",
    "                      for sentence in target_text.split('\\n')]\n",
    "    return source_id_text, target_id_text\n",
    "\n",
    "\"\"\"\n",
    "DON'T MODIFY ANYTHING IN THIS CELL THAT IS BELOW THIS LINE\n",
    "\"\"\"\n",
    "tests.test_text_to_ids(text_to_ids)"
   ]
  },
  {
   "cell_type": "markdown",
   "metadata": {},
   "source": [
    "### Preprocess all the data and save it\n",
    "Running the code cell below will preprocess all the data and save it to file."
   ]
  },
  {
   "cell_type": "code",
   "execution_count": 39,
   "metadata": {},
   "outputs": [],
   "source": [
    "\"\"\"\n",
    "DON'T MODIFY ANYTHING IN THIS CELL\n",
    "\"\"\"\n",
    "helper.preprocess_and_save_data(source_path, target_path, text_to_ids)"
   ]
  },
  {
   "cell_type": "markdown",
   "metadata": {},
   "source": [
    "# Check Point\n",
    "This is your first checkpoint. If you ever decide to come back to this notebook or have to restart the notebook, you can start from here. The preprocessed data has been saved to disk."
   ]
  },
  {
   "cell_type": "code",
   "execution_count": 40,
   "metadata": {},
   "outputs": [],
   "source": [
    "\"\"\"\n",
    "DON'T MODIFY ANYTHING IN THIS CELL\n",
    "\"\"\"\n",
    "import numpy as np\n",
    "import helper\n",
    "\n",
    "(source_int_text, target_int_text), (source_vocab_to_int, target_vocab_to_int), _ = helper.load_preprocess()"
   ]
  },
  {
   "cell_type": "markdown",
   "metadata": {},
   "source": [
    "### Check the Version of TensorFlow and Access to GPU\n",
    "This will check to make sure you have the correct version of TensorFlow and access to a GPU"
   ]
  },
  {
   "cell_type": "code",
   "execution_count": 41,
   "metadata": {},
   "outputs": [
    {
     "name": "stdout",
     "output_type": "stream",
     "text": [
      "TensorFlow Version: 1.1.0\n",
      "Default GPU Device: /gpu:0\n"
     ]
    }
   ],
   "source": [
    "\"\"\"\n",
    "DON'T MODIFY ANYTHING IN THIS CELL\n",
    "\"\"\"\n",
    "from distutils.version import LooseVersion\n",
    "import warnings\n",
    "import tensorflow as tf\n",
    "from tensorflow.python.layers.core import Dense\n",
    "\n",
    "# Check TensorFlow Version\n",
    "assert LooseVersion(tf.__version__) >= LooseVersion('1.1'), 'Please use TensorFlow version 1.1 or newer'\n",
    "print('TensorFlow Version: {}'.format(tf.__version__))\n",
    "\n",
    "# Check for a GPU\n",
    "if not tf.test.gpu_device_name():\n",
    "    warnings.warn('No GPU found. Please use a GPU to train your neural network.')\n",
    "else:\n",
    "    print('Default GPU Device: {}'.format(tf.test.gpu_device_name()))"
   ]
  },
  {
   "cell_type": "markdown",
   "metadata": {},
   "source": [
    "## Build the Neural Network\n",
    "You'll build the components necessary to build a Sequence-to-Sequence model by implementing the following functions below:\n",
    "- `model_inputs`\n",
    "- `process_decoder_input`\n",
    "- `encoding_layer`\n",
    "- `decoding_layer_train`\n",
    "- `decoding_layer_infer`\n",
    "- `decoding_layer`\n",
    "- `seq2seq_model`\n",
    "\n",
    "### Input\n",
    "Implement the `model_inputs()` function to create TF Placeholders for the Neural Network. It should create the following placeholders:\n",
    "\n",
    "- Input text placeholder named \"input\" using the TF Placeholder name parameter with rank 2.\n",
    "- Targets placeholder with rank 2.\n",
    "- Learning rate placeholder with rank 0.\n",
    "- Keep probability placeholder named \"keep_prob\" using the TF Placeholder name parameter with rank 0.\n",
    "- Target sequence length placeholder named \"target_sequence_length\" with rank 1\n",
    "- Max target sequence length tensor named \"max_target_len\" getting its value from applying tf.reduce_max on the target_sequence_length placeholder. Rank 0.\n",
    "- Source sequence length placeholder named \"source_sequence_length\" with rank 1\n",
    "\n",
    "Return the placeholders in the following the tuple (input, targets, learning rate, keep probability, target sequence length, max target sequence length, source sequence length)"
   ]
  },
  {
   "cell_type": "code",
   "execution_count": 42,
   "metadata": {},
   "outputs": [
    {
     "name": "stdout",
     "output_type": "stream",
     "text": [
      "Tests Passed\n"
     ]
    }
   ],
   "source": [
    "def model_inputs():\n",
    "    \"\"\"\n",
    "    Create TF Placeholders for input, targets, learning rate, and lengths of source and target sequences.\n",
    "    :return: Tuple (input, targets, learning rate, keep probability, target sequence length,\n",
    "    max target sequence length, source sequence length)\n",
    "    \"\"\"\n",
    "    inputs = tf.placeholder(tf.int32, [None, None], name='input')\n",
    "    \n",
    "    targets = tf.placeholder(tf.int32, [None, None])\n",
    "    \n",
    "    learning_rate = tf.placeholder(tf.float32)\n",
    "    \n",
    "    keep_prob = tf.placeholder(tf.float32, name='keep_prob')\n",
    "    \n",
    "    target_sequence_length = tf.placeholder(tf.int32, [None], name='target_sequence_length')\n",
    "    \n",
    "    max_target_len = tf.reduce_max(target_sequence_length, name='max_target_len')\n",
    "    \n",
    "    source_sequence_length = tf.placeholder(tf.int32, [None],name='source_sequence_length')\n",
    "    \n",
    "    return inputs, targets, learning_rate, keep_prob, target_sequence_length, max_target_len, source_sequence_length\n",
    "\n",
    "\n",
    "\"\"\"\n",
    "DON'T MODIFY ANYTHING IN THIS CELL THAT IS BELOW THIS LINE\n",
    "\"\"\"\n",
    "tests.test_model_inputs(model_inputs)"
   ]
  },
  {
   "cell_type": "markdown",
   "metadata": {},
   "source": [
    "### Process Decoder Input\n",
    "Implement `process_decoder_input` by removing the last word id from each batch in `target_data` and concat the GO ID to the begining of each batch."
   ]
  },
  {
   "cell_type": "code",
   "execution_count": 43,
   "metadata": {},
   "outputs": [
    {
     "name": "stdout",
     "output_type": "stream",
     "text": [
      "Tests Passed\n"
     ]
    }
   ],
   "source": [
    "def process_decoder_input(target_data, target_vocab_to_int, batch_size):\n",
    "    \"\"\"\n",
    "    Preprocess target data for encoding\n",
    "    :param target_data: Target Placehoder\n",
    "    :param target_vocab_to_int: Dictionary to go from the target words to an id\n",
    "    :param batch_size: Batch Size\n",
    "    :return: Preprocessed target data\n",
    "    \"\"\"\n",
    "    ending = tf.strided_slice(target_data, [0, 0], [batch_size, -1], [1, 1])\n",
    "    \n",
    "    proc_input = tf.concat([tf.fill([batch_size, 1], target_vocab_to_int['<GO>']), ending], 1)\n",
    "    \n",
    "    return proc_input\n",
    "\n",
    "\"\"\"\n",
    "DON'T MODIFY ANYTHING IN THIS CELL THAT IS BELOW THIS LINE\n",
    "\"\"\"\n",
    "tests.test_process_encoding_input(process_decoder_input)"
   ]
  },
  {
   "cell_type": "markdown",
   "metadata": {},
   "source": [
    "### Encoding\n",
    "Implement `encoding_layer()` to create a Encoder RNN layer:\n",
    " * Embed the encoder input using [`tf.contrib.layers.embed_sequence`](https://www.tensorflow.org/api_docs/python/tf/contrib/layers/embed_sequence)\n",
    " * Construct a [stacked](https://github.com/tensorflow/tensorflow/blob/6947f65a374ebf29e74bb71e36fd82760056d82c/tensorflow/docs_src/tutorials/recurrent.md#stacking-multiple-lstms) [`tf.contrib.rnn.LSTMCell`](https://www.tensorflow.org/api_docs/python/tf/contrib/rnn/LSTMCell) wrapped in a [`tf.contrib.rnn.DropoutWrapper`](https://www.tensorflow.org/api_docs/python/tf/contrib/rnn/DropoutWrapper)\n",
    " * Pass cell and embedded input to [`tf.nn.dynamic_rnn()`](https://www.tensorflow.org/api_docs/python/tf/nn/dynamic_rnn)"
   ]
  },
  {
   "cell_type": "code",
   "execution_count": 44,
   "metadata": {
    "scrolled": false
   },
   "outputs": [
    {
     "name": "stdout",
     "output_type": "stream",
     "text": [
      "Tests Passed\n"
     ]
    }
   ],
   "source": [
    "from imp import reload\n",
    "reload(tests)\n",
    "\n",
    "def encoding_layer(rnn_inputs, rnn_size, num_layers, keep_prob, \n",
    "                   source_sequence_length, source_vocab_size, \n",
    "                   encoding_embedding_size):\n",
    "    \"\"\"\n",
    "    Create encoding layer\n",
    "    :param rnn_inputs: Inputs for the RNN\n",
    "    :param rnn_size: RNN Size\n",
    "    :param num_layers: Number of layers\n",
    "    :param keep_prob: Dropout keep probability\n",
    "    :param source_sequence_length: a list of the lengths of each sequence in the batch\n",
    "    :param source_vocab_size: vocabulary size of source data\n",
    "    :param encoding_embedding_size: embedding size of source data\n",
    "    :return: tuple (RNN output, RNN state)\n",
    "    \"\"\"\n",
    "    embedded_input = tf.contrib.layers.embed_sequence(rnn_inputs, \n",
    "                                                      source_vocab_size, \n",
    "                                                      encoding_embedding_size)\n",
    "    \n",
    "    cell = tf.contrib.rnn.MultiRNNCell([tf.contrib.rnn.BasicLSTMCell(rnn_size) \\\n",
    "                                        for _ in range(num_layers)])\n",
    "    \n",
    "    cell = tf.contrib.rnn.DropoutWrapper(cell, output_keep_prob=keep_prob)\n",
    "    \n",
    "    output, state = tf.nn.dynamic_rnn(cell, embedded_input, \n",
    "                                      sequence_length=source_sequence_length, dtype=tf.float32)\n",
    "    \n",
    "    return output, state\n",
    "\n",
    "\"\"\"\n",
    "DON'T MODIFY ANYTHING IN THIS CELL THAT IS BELOW THIS LINE\n",
    "\"\"\"\n",
    "tests.test_encoding_layer(encoding_layer)"
   ]
  },
  {
   "cell_type": "markdown",
   "metadata": {},
   "source": [
    "### Decoding - Training\n",
    "Create a training decoding layer:\n",
    "* Create a [`tf.contrib.seq2seq.TrainingHelper`](https://www.tensorflow.org/api_docs/python/tf/contrib/seq2seq/TrainingHelper) \n",
    "* Create a [`tf.contrib.seq2seq.BasicDecoder`](https://www.tensorflow.org/api_docs/python/tf/contrib/seq2seq/BasicDecoder)\n",
    "* Obtain the decoder outputs from [`tf.contrib.seq2seq.dynamic_decode`](https://www.tensorflow.org/api_docs/python/tf/contrib/seq2seq/dynamic_decode)"
   ]
  },
  {
   "cell_type": "code",
   "execution_count": 45,
   "metadata": {},
   "outputs": [
    {
     "name": "stdout",
     "output_type": "stream",
     "text": [
      "Tests Passed\n"
     ]
    }
   ],
   "source": [
    "\n",
    "def decoding_layer_train(encoder_state, dec_cell, dec_embed_input, \n",
    "                         target_sequence_length, max_summary_length, \n",
    "                         output_layer, keep_prob):\n",
    "    \"\"\"\n",
    "    Create a decoding layer for training\n",
    "    :param encoder_state: Encoder State\n",
    "    :param dec_cell: Decoder RNN Cell\n",
    "    :param dec_embed_input: Decoder embedded input\n",
    "    :param target_sequence_length: The lengths of each sequence in the target batch\n",
    "    :param max_summary_length: The length of the longest sequence in the batch\n",
    "    :param output_layer: Function to apply the output layer\n",
    "    :param keep_prob: Dropout keep probability\n",
    "    :return: BasicDecoderOutput containing training logits and sample_id\n",
    "    \"\"\"\n",
    "    ##1. Apply TrainingHelper\n",
    "    train_helper = tf.contrib.seq2seq.TrainingHelper(inputs=dec_embed_input,\n",
    "                                                    sequence_length=target_sequence_length,\n",
    "                                                    time_major=False)\n",
    "    \n",
    "    ##2. Apply BasicDecoder\n",
    "    train_decode = tf.contrib.seq2seq.BasicDecoder(dec_cell,\n",
    "                                                 train_helper,\n",
    "                                                 encoder_state,\n",
    "                                                 output_layer)\n",
    "    \n",
    "    ##3. Apply dynamic_decode\n",
    "    train_decode_output, _ = tf.contrib.seq2seq.dynamic_decode(train_decode,\n",
    "                                                              impute_finished=True,\n",
    "                                                              maximum_iterations=max_summary_length)\n",
    "    \n",
    "    return train_decode_output\n",
    "\n",
    "\n",
    "\n",
    "\"\"\"\n",
    "DON'T MODIFY ANYTHING IN THIS CELL THAT IS BELOW THIS LINE\n",
    "\"\"\"\n",
    "tests.test_decoding_layer_train(decoding_layer_train)"
   ]
  },
  {
   "cell_type": "markdown",
   "metadata": {},
   "source": [
    "### Decoding - Inference\n",
    "Create inference decoder:\n",
    "* Create a [`tf.contrib.seq2seq.GreedyEmbeddingHelper`](https://www.tensorflow.org/api_docs/python/tf/contrib/seq2seq/GreedyEmbeddingHelper)\n",
    "* Create a [`tf.contrib.seq2seq.BasicDecoder`](https://www.tensorflow.org/api_docs/python/tf/contrib/seq2seq/BasicDecoder)\n",
    "* Obtain the decoder outputs from [`tf.contrib.seq2seq.dynamic_decode`](https://www.tensorflow.org/api_docs/python/tf/contrib/seq2seq/dynamic_decode)"
   ]
  },
  {
   "cell_type": "code",
   "execution_count": 46,
   "metadata": {
    "scrolled": true
   },
   "outputs": [
    {
     "name": "stdout",
     "output_type": "stream",
     "text": [
      "Tests Passed\n"
     ]
    }
   ],
   "source": [
    "def decoding_layer_infer(encoder_state, dec_cell, dec_embeddings, start_of_sequence_id,\n",
    "                         end_of_sequence_id, max_target_sequence_length,\n",
    "                         vocab_size, output_layer, batch_size, keep_prob):\n",
    "    \"\"\"\n",
    "    Create a decoding layer for inference\n",
    "    :param encoder_state: Encoder state\n",
    "    :param dec_cell: Decoder RNN Cell\n",
    "    :param dec_embeddings: Decoder embeddings\n",
    "    :param start_of_sequence_id: GO ID\n",
    "    :param end_of_sequence_id: EOS Id\n",
    "    :param max_target_sequence_length: Maximum length of target sequences\n",
    "    :param vocab_size: Size of decoder/target vocabulary\n",
    "    :param decoding_scope: TenorFlow Variable Scope for decoding\n",
    "    :param output_layer: Function to apply the output layer\n",
    "    :param batch_size: Batch size\n",
    "    :param keep_prob: Dropout keep probability\n",
    "    :return: BasicDecoderOutput containing inference logits and sample_id\n",
    "    \"\"\"\n",
    "    ##O. Create start tokens\n",
    "    start_tokens = tf.tile(tf.constant([start_of_sequence_id], dtype=tf.int32),\n",
    "                          [batch_size], name='start_tokens')\n",
    "    \n",
    "    ##1. Apply GreedyEmbeddingHelper\n",
    "    infer_help = tf.contrib.seq2seq.GreedyEmbeddingHelper(dec_embeddings,\n",
    "                                                         start_tokens,\n",
    "                                                         end_of_sequence_id)\n",
    "    \n",
    "    ##2. Apply BasicDecoder\n",
    "    infer_decode = tf.contrib.seq2seq.BasicDecoder(dec_cell, infer_help,\n",
    "                                                  encoder_state, output_layer)\n",
    "    \n",
    "    ##3. Apply dynamic_decode\n",
    "    infer_decode_output, _ = tf.contrib.seq2seq.dynamic_decode(infer_decode,\n",
    "                                                              impute_finished=True,\n",
    "                                                              maximum_iterations=max_target_sequence_length)\n",
    "    \n",
    "    return infer_decode_output\n",
    "\n",
    "\n",
    "\n",
    "\"\"\"\n",
    "DON'T MODIFY ANYTHING IN THIS CELL THAT IS BELOW THIS LINE\n",
    "\"\"\"\n",
    "tests.test_decoding_layer_infer(decoding_layer_infer)"
   ]
  },
  {
   "cell_type": "markdown",
   "metadata": {},
   "source": [
    "### Build the Decoding Layer\n",
    "Implement `decoding_layer()` to create a Decoder RNN layer.\n",
    "\n",
    "* Embed the target sequences\n",
    "* Construct the decoder LSTM cell (just like you constructed the encoder cell above)\n",
    "* Create an output layer to map the outputs of the decoder to the elements of our vocabulary\n",
    "* Use the your `decoding_layer_train(encoder_state, dec_cell, dec_embed_input, target_sequence_length, max_target_sequence_length, output_layer, keep_prob)` function to get the training logits.\n",
    "* Use your `decoding_layer_infer(encoder_state, dec_cell, dec_embeddings, start_of_sequence_id, end_of_sequence_id, max_target_sequence_length, vocab_size, output_layer, batch_size, keep_prob)` function to get the inference logits.\n",
    "\n",
    "Note: You'll need to use [tf.variable_scope](https://www.tensorflow.org/api_docs/python/tf/variable_scope) to share variables between training and inference."
   ]
  },
  {
   "cell_type": "code",
   "execution_count": 47,
   "metadata": {},
   "outputs": [
    {
     "name": "stdout",
     "output_type": "stream",
     "text": [
      "Tests Passed\n"
     ]
    }
   ],
   "source": [
    "def decoding_layer(dec_input, encoder_state,\n",
    "                   target_sequence_length, max_target_sequence_length,\n",
    "                   rnn_size,\n",
    "                   num_layers, target_vocab_to_int, target_vocab_size,\n",
    "                   batch_size, keep_prob, decoding_embedding_size):\n",
    "    \"\"\"\n",
    "    Create decoding layer\n",
    "    :param dec_input: Decoder input\n",
    "    :param encoder_state: Encoder state\n",
    "    :param target_sequence_length: The lengths of each sequence in the target batch\n",
    "    :param max_target_sequence_length: Maximum length of target sequences\n",
    "    :param rnn_size: RNN Size\n",
    "    :param num_layers: Number of layers\n",
    "    :param target_vocab_to_int: Dictionary to go from the target words to an id\n",
    "    :param target_vocab_size: Size of target vocabulary\n",
    "    :param batch_size: The size of the batch\n",
    "    :param keep_prob: Dropout keep probability\n",
    "    :param decoding_embedding_size: Decoding embedding size\n",
    "    :return: Tuple of (Training BasicDecoderOutput, Inference BasicDecoderOutput)\n",
    "    \"\"\"\n",
    "    ##1. Embedded the target sequence\n",
    "    dec_embeddings = tf.Variable(tf.random_uniform([target_vocab_size, decoding_embedding_size]))\n",
    "    \n",
    "    dec_embed_input = tf.nn.embedding_lookup(dec_embeddings, dec_input)\n",
    "    \n",
    "    ##2. Construct LSTM Cell\n",
    "    dec_cell = tf.contrib.rnn.MultiRNNCell([tf.contrib.rnn.BasicLSTMCell(rnn_size) \\\n",
    "                                            for _ in range(num_layers)])\n",
    "    \n",
    "    dec_cell = tf.contrib.rnn.DropoutWrapper(dec_cell, output_keep_prob=keep_prob)\n",
    "    \n",
    "    ##3. Create mapping outpult layer\n",
    "    output_layer = Dense(target_vocab_size, \n",
    "                       kernel_initializer = tf.truncated_normal_initializer(mean=0.0, stddev=0.1))\n",
    "    \n",
    "    ##4. Do the decoding for training and inference\n",
    "    with tf.variable_scope('decode'):\n",
    "        train_decode_output = decoding_layer_train(encoder_state, dec_cell, dec_embed_input, \n",
    "                                                  target_sequence_length, max_target_sequence_length, \n",
    "                                                  output_layer, keep_prob)\n",
    "        \n",
    "    with tf.variable_scope('decode', reuse=True):\n",
    "        infer_decode_output = decoding_layer_infer(encoder_state, dec_cell, dec_embeddings, \n",
    "                                                  target_vocab_to_int['<GO>'], \n",
    "                                                  target_vocab_to_int['<EOS>'], \n",
    "                                                  max_target_sequence_length, target_vocab_size, output_layer, \n",
    "                                                  batch_size, keep_prob)\n",
    "    \n",
    "    return train_decode_output, infer_decode_output\n",
    "\n",
    "\n",
    "\n",
    "\"\"\"\n",
    "DON'T MODIFY ANYTHING IN THIS CELL THAT IS BELOW THIS LINE\n",
    "\"\"\"\n",
    "tests.test_decoding_layer(decoding_layer)"
   ]
  },
  {
   "cell_type": "markdown",
   "metadata": {},
   "source": [
    "### Build the Neural Network\n",
    "Apply the functions you implemented above to:\n",
    "\n",
    "- Encode the input using your `encoding_layer(rnn_inputs, rnn_size, num_layers, keep_prob,  source_sequence_length, source_vocab_size, encoding_embedding_size)`.\n",
    "- Process target data using your `process_decoder_input(target_data, target_vocab_to_int, batch_size)` function.\n",
    "- Decode the encoded input using your `decoding_layer(dec_input, enc_state, target_sequence_length, max_target_sentence_length, rnn_size, num_layers, target_vocab_to_int, target_vocab_size, batch_size, keep_prob, dec_embedding_size)` function."
   ]
  },
  {
   "cell_type": "code",
   "execution_count": 48,
   "metadata": {},
   "outputs": [
    {
     "name": "stdout",
     "output_type": "stream",
     "text": [
      "Tests Passed\n"
     ]
    }
   ],
   "source": [
    "def seq2seq_model(input_data, target_data, keep_prob, batch_size,\n",
    "                  source_sequence_length, target_sequence_length,\n",
    "                  max_target_sentence_length,\n",
    "                  source_vocab_size, target_vocab_size,\n",
    "                  enc_embedding_size, dec_embedding_size,\n",
    "                  rnn_size, num_layers, target_vocab_to_int):\n",
    "    \"\"\"\n",
    "    Build the Sequence-to-Sequence part of the neural network\n",
    "    :param input_data: Input placeholder\n",
    "    :param target_data: Target placeholder\n",
    "    :param keep_prob: Dropout keep probability placeholder\n",
    "    :param batch_size: Batch Size\n",
    "    :param source_sequence_length: Sequence Lengths of source sequences in the batch\n",
    "    :param target_sequence_length: Sequence Lengths of target sequences in the batch\n",
    "    :param source_vocab_size: Source vocabulary size\n",
    "    :param target_vocab_size: Target vocabulary size\n",
    "    :param enc_embedding_size: Decoder embedding size\n",
    "    :param dec_embedding_size: Encoder embedding size\n",
    "    :param rnn_size: RNN Size\n",
    "    :param num_layers: Number of layers\n",
    "    :param target_vocab_to_int: Dictionary to go from the target words to an id\n",
    "    :return: Tuple of (Training BasicDecoderOutput, Inference BasicDecoderOutput)\n",
    "    \"\"\"\n",
    "    ##1. Encode input using enconding_layer()\n",
    "    _, enc_input = encoding_layer(input_data, rnn_size, num_layers, keep_prob,  \n",
    "                                   source_sequence_length, source_vocab_size, \n",
    "                                   enc_embedding_size)\n",
    "    \n",
    "    ##2. Process target data with procesed_decoder_input()\n",
    "    dec_input = process_decoder_input(target_data, target_vocab_to_int, batch_size)\n",
    "    \n",
    "    ##3. Decode input using decoding_layer\n",
    "    train_output, infer_output = decoding_layer(dec_input, enc_input, target_sequence_length, \n",
    "                                                max_target_sentence_length, rnn_size, num_layers, \n",
    "                                                target_vocab_to_int, target_vocab_size, batch_size, \n",
    "                                                keep_prob, dec_embedding_size)\n",
    "    \n",
    "    return train_output, infer_output\n",
    "\n",
    "\n",
    "\"\"\"\n",
    "DON'T MODIFY ANYTHING IN THIS CELL THAT IS BELOW THIS LINE\n",
    "\"\"\"\n",
    "tests.test_seq2seq_model(seq2seq_model)"
   ]
  },
  {
   "cell_type": "markdown",
   "metadata": {},
   "source": [
    "## Neural Network Training\n",
    "### Hyperparameters\n",
    "Tune the following parameters:\n",
    "\n",
    "- Set `epochs` to the number of epochs.\n",
    "- Set `batch_size` to the batch size.\n",
    "- Set `rnn_size` to the size of the RNNs.\n",
    "- Set `num_layers` to the number of layers.\n",
    "- Set `encoding_embedding_size` to the size of the embedding for the encoder.\n",
    "- Set `decoding_embedding_size` to the size of the embedding for the decoder.\n",
    "- Set `learning_rate` to the learning rate.\n",
    "- Set `keep_probability` to the Dropout keep probability\n",
    "- Set `display_step` to state how many steps between each debug output statement"
   ]
  },
  {
   "cell_type": "code",
   "execution_count": 8,
   "metadata": {},
   "outputs": [],
   "source": [
    "# Number of Epochs\n",
    "epochs = 48\n",
    "# Batch Size\n",
    "batch_size = 128\n",
    "# RNN Size\n",
    "rnn_size = 300\n",
    "# Number of Layers\n",
    "num_layers = 4\n",
    "# Embedding Size\n",
    "encoding_embedding_size = 130\n",
    "decoding_embedding_size = 130\n",
    "# Learning Rate\n",
    "learning_rate = 0.001\n",
    "# Dropout Keep Probability\n",
    "keep_probability = 0.8\n",
    "display_step = 10"
   ]
  },
  {
   "cell_type": "markdown",
   "metadata": {},
   "source": [
    "### Build the Graph\n",
    "Build the graph using the neural network you implemented."
   ]
  },
  {
   "cell_type": "code",
   "execution_count": 78,
   "metadata": {},
   "outputs": [],
   "source": [
    "\"\"\"\n",
    "DON'T MODIFY ANYTHING IN THIS CELL\n",
    "\"\"\"\n",
    "save_path = 'checkpoints/dev'\n",
    "(source_int_text, target_int_text), (source_vocab_to_int, target_vocab_to_int), _ = helper.load_preprocess()\n",
    "max_target_sentence_length = max([len(sentence) for sentence in source_int_text])\n",
    "\n",
    "train_graph = tf.Graph()\n",
    "with train_graph.as_default():\n",
    "    input_data, targets, lr, keep_prob, target_sequence_length, max_target_sequence_length, source_sequence_length = model_inputs()\n",
    "\n",
    "    #sequence_length = tf.placeholder_with_default(max_target_sentence_length, None, name='sequence_length')\n",
    "    input_shape = tf.shape(input_data)\n",
    "\n",
    "    train_logits, inference_logits = seq2seq_model(tf.reverse(input_data, [-1]),\n",
    "                                                   targets,\n",
    "                                                   keep_prob,\n",
    "                                                   batch_size,\n",
    "                                                   source_sequence_length,\n",
    "                                                   target_sequence_length,\n",
    "                                                   max_target_sequence_length,\n",
    "                                                   len(source_vocab_to_int),\n",
    "                                                   len(target_vocab_to_int),\n",
    "                                                   encoding_embedding_size,\n",
    "                                                   decoding_embedding_size,\n",
    "                                                   rnn_size,\n",
    "                                                   num_layers,\n",
    "                                                   target_vocab_to_int)\n",
    "\n",
    "\n",
    "    training_logits = tf.identity(train_logits.rnn_output, name='logits')\n",
    "    inference_logits = tf.identity(inference_logits.sample_id, name='predictions')\n",
    "\n",
    "    masks = tf.sequence_mask(target_sequence_length, max_target_sequence_length, dtype=tf.float32, name='masks')\n",
    "\n",
    "    with tf.name_scope(\"optimization\"):\n",
    "        # Loss function\n",
    "        cost = tf.contrib.seq2seq.sequence_loss(\n",
    "            training_logits,\n",
    "            targets,\n",
    "            masks)\n",
    "\n",
    "        # Optimizer\n",
    "        optimizer = tf.train.AdamOptimizer(lr)\n",
    "\n",
    "        # Gradient Clipping\n",
    "        gradients = optimizer.compute_gradients(cost)\n",
    "        capped_gradients = [(tf.clip_by_value(grad, -1., 1.), var) for grad, var in gradients if grad is not None]\n",
    "        train_op = optimizer.apply_gradients(capped_gradients)\n"
   ]
  },
  {
   "cell_type": "markdown",
   "metadata": {},
   "source": [
    "Batch and pad the source and target sequences"
   ]
  },
  {
   "cell_type": "code",
   "execution_count": 79,
   "metadata": {},
   "outputs": [],
   "source": [
    "\"\"\"\n",
    "DON'T MODIFY ANYTHING IN THIS CELL\n",
    "\"\"\"\n",
    "def pad_sentence_batch(sentence_batch, pad_int):\n",
    "    \"\"\"Pad sentences with <PAD> so that each sentence of a batch has the same length\"\"\"\n",
    "    max_sentence = max([len(sentence) for sentence in sentence_batch])\n",
    "    return [sentence + [pad_int] * (max_sentence - len(sentence)) for sentence in sentence_batch]\n",
    "\n",
    "\n",
    "def get_batches(sources, targets, batch_size, source_pad_int, target_pad_int):\n",
    "    \"\"\"Batch targets, sources, and the lengths of their sentences together\"\"\"\n",
    "    for batch_i in range(0, len(sources)//batch_size):\n",
    "        start_i = batch_i * batch_size\n",
    "\n",
    "        # Slice the right amount for the batch\n",
    "        sources_batch = sources[start_i:start_i + batch_size]\n",
    "        targets_batch = targets[start_i:start_i + batch_size]\n",
    "\n",
    "        # Pad\n",
    "        pad_sources_batch = np.array(pad_sentence_batch(sources_batch, source_pad_int))\n",
    "        pad_targets_batch = np.array(pad_sentence_batch(targets_batch, target_pad_int))\n",
    "\n",
    "        # Need the lengths for the _lengths parameters\n",
    "        pad_targets_lengths = []\n",
    "        for target in pad_targets_batch:\n",
    "            pad_targets_lengths.append(len(target))\n",
    "\n",
    "        pad_source_lengths = []\n",
    "        for source in pad_sources_batch:\n",
    "            pad_source_lengths.append(len(source))\n",
    "\n",
    "        yield pad_sources_batch, pad_targets_batch, pad_source_lengths, pad_targets_lengths\n"
   ]
  },
  {
   "cell_type": "markdown",
   "metadata": {},
   "source": [
    "### Train\n",
    "Train the neural network on the preprocessed data. If you have a hard time getting a good loss, check the forms to see if anyone is having the same problem."
   ]
  },
  {
   "cell_type": "code",
   "execution_count": 80,
   "metadata": {
    "scrolled": true
   },
   "outputs": [
    {
     "name": "stdout",
     "output_type": "stream",
     "text": [
      "Epoch   0 Batch   10/38 - Train Accuracy: 0.4966, Validation Accuracy: 0.4944, Loss: 4.5757\n",
      "Epoch   0 Batch   20/38 - Train Accuracy: 0.4499, Validation Accuracy: 0.4944, Loss: 4.1661\n",
      "Epoch   0 Batch   30/38 - Train Accuracy: 0.5428, Validation Accuracy: 0.4934, Loss: 3.4679\n",
      "Epoch   1 Batch   10/38 - Train Accuracy: 0.5019, Validation Accuracy: 0.4988, Loss: 3.6674\n",
      "Epoch   1 Batch   20/38 - Train Accuracy: 0.4513, Validation Accuracy: 0.4981, Loss: 3.8883\n",
      "Epoch   1 Batch   30/38 - Train Accuracy: 0.5457, Validation Accuracy: 0.4988, Loss: 3.3674\n",
      "Epoch   2 Batch   10/38 - Train Accuracy: 0.5019, Validation Accuracy: 0.4988, Loss: 3.6372\n",
      "Epoch   2 Batch   20/38 - Train Accuracy: 0.4517, Validation Accuracy: 0.4994, Loss: 3.8599\n",
      "Epoch   2 Batch   30/38 - Train Accuracy: 0.5414, Validation Accuracy: 0.4988, Loss: 3.3185\n",
      "Epoch   3 Batch   10/38 - Train Accuracy: 0.5028, Validation Accuracy: 0.4994, Loss: 3.6418\n",
      "Epoch   3 Batch   20/38 - Train Accuracy: 0.4560, Validation Accuracy: 0.4981, Loss: 3.7719\n",
      "Epoch   3 Batch   30/38 - Train Accuracy: 0.5460, Validation Accuracy: 0.4984, Loss: 3.2878\n",
      "Epoch   4 Batch   10/38 - Train Accuracy: 0.5047, Validation Accuracy: 0.4988, Loss: 3.5232\n",
      "Epoch   4 Batch   20/38 - Train Accuracy: 0.4577, Validation Accuracy: 0.4928, Loss: 3.6445\n",
      "Epoch   4 Batch   30/38 - Train Accuracy: 0.5477, Validation Accuracy: 0.4897, Loss: 3.0824\n",
      "Epoch   5 Batch   10/38 - Train Accuracy: 0.4947, Validation Accuracy: 0.4809, Loss: 3.3107\n",
      "Epoch   5 Batch   20/38 - Train Accuracy: 0.4524, Validation Accuracy: 0.4963, Loss: 3.5247\n",
      "Epoch   5 Batch   30/38 - Train Accuracy: 0.5492, Validation Accuracy: 0.4922, Loss: 2.9908\n",
      "Epoch   6 Batch   10/38 - Train Accuracy: 0.5044, Validation Accuracy: 0.4750, Loss: 3.2674\n",
      "Epoch   6 Batch   20/38 - Train Accuracy: 0.4602, Validation Accuracy: 0.4891, Loss: 3.4511\n",
      "Epoch   6 Batch   30/38 - Train Accuracy: 0.5512, Validation Accuracy: 0.4772, Loss: 2.9466\n",
      "Epoch   7 Batch   10/38 - Train Accuracy: 0.3994, Validation Accuracy: 0.3738, Loss: 3.1818\n",
      "Epoch   7 Batch   20/38 - Train Accuracy: 0.2021, Validation Accuracy: 0.2919, Loss: 3.3419\n",
      "Epoch   7 Batch   30/38 - Train Accuracy: 0.3585, Validation Accuracy: 0.3100, Loss: 2.8732\n",
      "Epoch   8 Batch   10/38 - Train Accuracy: 0.0362, Validation Accuracy: 0.0356, Loss: 3.0954\n",
      "Epoch   8 Batch   20/38 - Train Accuracy: 0.0298, Validation Accuracy: 0.0356, Loss: 3.2385\n",
      "Epoch   8 Batch   30/38 - Train Accuracy: 0.0538, Validation Accuracy: 0.0437, Loss: 2.8176\n",
      "Epoch   9 Batch   10/38 - Train Accuracy: 0.0319, Validation Accuracy: 0.0359, Loss: 3.0379\n",
      "Epoch   9 Batch   20/38 - Train Accuracy: 0.0813, Validation Accuracy: 0.1106, Loss: 3.1995\n",
      "Epoch   9 Batch   30/38 - Train Accuracy: 0.3501, Validation Accuracy: 0.2791, Loss: 2.7901\n",
      "Epoch  10 Batch   10/38 - Train Accuracy: 0.4866, Validation Accuracy: 0.4394, Loss: 2.9995\n",
      "Epoch  10 Batch   20/38 - Train Accuracy: 0.3892, Validation Accuracy: 0.4044, Loss: 3.1429\n",
      "Epoch  10 Batch   30/38 - Train Accuracy: 0.5041, Validation Accuracy: 0.4134, Loss: 2.7605\n",
      "Epoch  11 Batch   10/38 - Train Accuracy: 0.4647, Validation Accuracy: 0.4313, Loss: 2.9558\n",
      "Epoch  11 Batch   20/38 - Train Accuracy: 0.3505, Validation Accuracy: 0.3841, Loss: 3.0949\n",
      "Epoch  11 Batch   30/38 - Train Accuracy: 0.4951, Validation Accuracy: 0.4197, Loss: 2.7132\n",
      "Epoch  12 Batch   10/38 - Train Accuracy: 0.4625, Validation Accuracy: 0.4294, Loss: 2.9101\n",
      "Epoch  12 Batch   20/38 - Train Accuracy: 0.4073, Validation Accuracy: 0.4247, Loss: 3.0764\n",
      "Epoch  12 Batch   30/38 - Train Accuracy: 0.5168, Validation Accuracy: 0.4263, Loss: 2.6659\n",
      "Epoch  13 Batch   10/38 - Train Accuracy: 0.4831, Validation Accuracy: 0.4719, Loss: 2.9039\n",
      "Epoch  13 Batch   20/38 - Train Accuracy: 0.4119, Validation Accuracy: 0.4534, Loss: 3.0288\n",
      "Epoch  13 Batch   30/38 - Train Accuracy: 0.4251, Validation Accuracy: 0.3500, Loss: 2.6645\n",
      "Epoch  14 Batch   10/38 - Train Accuracy: 0.4834, Validation Accuracy: 0.4569, Loss: 2.8690\n",
      "Epoch  14 Batch   20/38 - Train Accuracy: 0.3643, Validation Accuracy: 0.3984, Loss: 3.0559\n",
      "Epoch  14 Batch   30/38 - Train Accuracy: 0.3634, Validation Accuracy: 0.2997, Loss: 2.6340\n",
      "Epoch  15 Batch   10/38 - Train Accuracy: 0.4297, Validation Accuracy: 0.4088, Loss: 2.8415\n",
      "Epoch  15 Batch   20/38 - Train Accuracy: 0.3377, Validation Accuracy: 0.3778, Loss: 2.9609\n",
      "Epoch  15 Batch   30/38 - Train Accuracy: 0.5223, Validation Accuracy: 0.4503, Loss: 2.6107\n",
      "Epoch  16 Batch   10/38 - Train Accuracy: 0.4681, Validation Accuracy: 0.4572, Loss: 2.7774\n",
      "Epoch  16 Batch   20/38 - Train Accuracy: 0.4020, Validation Accuracy: 0.4216, Loss: 2.9156\n",
      "Epoch  16 Batch   30/38 - Train Accuracy: 0.5072, Validation Accuracy: 0.4250, Loss: 2.5687\n",
      "Epoch  17 Batch   10/38 - Train Accuracy: 0.4775, Validation Accuracy: 0.4619, Loss: 2.7486\n",
      "Epoch  17 Batch   20/38 - Train Accuracy: 0.4091, Validation Accuracy: 0.4363, Loss: 2.8744\n",
      "Epoch  17 Batch   30/38 - Train Accuracy: 0.5188, Validation Accuracy: 0.4472, Loss: 2.5171\n",
      "Epoch  18 Batch   10/38 - Train Accuracy: 0.4863, Validation Accuracy: 0.4688, Loss: 2.7090\n",
      "Epoch  18 Batch   20/38 - Train Accuracy: 0.4045, Validation Accuracy: 0.4259, Loss: 2.8610\n",
      "Epoch  18 Batch   30/38 - Train Accuracy: 0.5246, Validation Accuracy: 0.4628, Loss: 2.5080\n",
      "Epoch  19 Batch   10/38 - Train Accuracy: 0.4884, Validation Accuracy: 0.4753, Loss: 2.7162\n",
      "Epoch  19 Batch   20/38 - Train Accuracy: 0.4048, Validation Accuracy: 0.4263, Loss: 2.8708\n",
      "Epoch  19 Batch   30/38 - Train Accuracy: 0.5142, Validation Accuracy: 0.4506, Loss: 2.4824\n",
      "Epoch  20 Batch   10/38 - Train Accuracy: 0.4825, Validation Accuracy: 0.4694, Loss: 2.6942\n",
      "Epoch  20 Batch   20/38 - Train Accuracy: 0.3967, Validation Accuracy: 0.4159, Loss: 2.8600\n",
      "Epoch  20 Batch   30/38 - Train Accuracy: 0.5275, Validation Accuracy: 0.4709, Loss: 2.4611\n",
      "Epoch  21 Batch   10/38 - Train Accuracy: 0.4856, Validation Accuracy: 0.4706, Loss: 2.6659\n",
      "Epoch  21 Batch   20/38 - Train Accuracy: 0.4031, Validation Accuracy: 0.4356, Loss: 2.8181\n",
      "Epoch  21 Batch   30/38 - Train Accuracy: 0.5286, Validation Accuracy: 0.4691, Loss: 2.4471\n",
      "Epoch  22 Batch   10/38 - Train Accuracy: 0.4856, Validation Accuracy: 0.4672, Loss: 2.6419\n",
      "Epoch  22 Batch   20/38 - Train Accuracy: 0.3991, Validation Accuracy: 0.4338, Loss: 2.7716\n",
      "Epoch  22 Batch   30/38 - Train Accuracy: 0.5278, Validation Accuracy: 0.4703, Loss: 2.4291\n",
      "Epoch  23 Batch   10/38 - Train Accuracy: 0.4741, Validation Accuracy: 0.4478, Loss: 2.6258\n",
      "Epoch  23 Batch   20/38 - Train Accuracy: 0.4162, Validation Accuracy: 0.4594, Loss: 2.7541\n",
      "Epoch  23 Batch   30/38 - Train Accuracy: 0.5365, Validation Accuracy: 0.4744, Loss: 2.3865\n",
      "Epoch  24 Batch   10/38 - Train Accuracy: 0.4800, Validation Accuracy: 0.4550, Loss: 2.5972\n",
      "Epoch  24 Batch   20/38 - Train Accuracy: 0.4357, Validation Accuracy: 0.4703, Loss: 2.7381\n",
      "Epoch  24 Batch   30/38 - Train Accuracy: 0.5286, Validation Accuracy: 0.4691, Loss: 2.3958\n",
      "Epoch  25 Batch   10/38 - Train Accuracy: 0.4856, Validation Accuracy: 0.4722, Loss: 2.5545\n",
      "Epoch  25 Batch   20/38 - Train Accuracy: 0.4361, Validation Accuracy: 0.4753, Loss: 2.6677\n",
      "Epoch  25 Batch   30/38 - Train Accuracy: 0.5229, Validation Accuracy: 0.4569, Loss: 2.3559\n",
      "Epoch  26 Batch   10/38 - Train Accuracy: 0.4806, Validation Accuracy: 0.4728, Loss: 2.5450\n",
      "Epoch  26 Batch   20/38 - Train Accuracy: 0.4393, Validation Accuracy: 0.4681, Loss: 2.6529\n",
      "Epoch  26 Batch   30/38 - Train Accuracy: 0.5113, Validation Accuracy: 0.4397, Loss: 2.3387\n",
      "Epoch  27 Batch   10/38 - Train Accuracy: 0.4691, Validation Accuracy: 0.4319, Loss: 2.5305\n",
      "Epoch  27 Batch   20/38 - Train Accuracy: 0.4339, Validation Accuracy: 0.4591, Loss: 2.6254\n",
      "Epoch  27 Batch   30/38 - Train Accuracy: 0.5203, Validation Accuracy: 0.4503, Loss: 2.2985\n",
      "Epoch  28 Batch   10/38 - Train Accuracy: 0.4731, Validation Accuracy: 0.4425, Loss: 2.4763\n",
      "Epoch  28 Batch   20/38 - Train Accuracy: 0.4379, Validation Accuracy: 0.4653, Loss: 2.6237\n",
      "Epoch  28 Batch   30/38 - Train Accuracy: 0.5220, Validation Accuracy: 0.4400, Loss: 2.2791\n",
      "Epoch  29 Batch   10/38 - Train Accuracy: 0.4691, Validation Accuracy: 0.4316, Loss: 2.4615\n",
      "Epoch  29 Batch   20/38 - Train Accuracy: 0.4371, Validation Accuracy: 0.4559, Loss: 2.6304\n",
      "Epoch  29 Batch   30/38 - Train Accuracy: 0.5234, Validation Accuracy: 0.4409, Loss: 2.2801\n"
     ]
    },
    {
     "name": "stdout",
     "output_type": "stream",
     "text": [
      "Epoch  30 Batch   10/38 - Train Accuracy: 0.4700, Validation Accuracy: 0.4487, Loss: 2.4231\n",
      "Epoch  30 Batch   20/38 - Train Accuracy: 0.4379, Validation Accuracy: 0.4806, Loss: 2.6059\n",
      "Epoch  30 Batch   30/38 - Train Accuracy: 0.5266, Validation Accuracy: 0.4569, Loss: 2.2578\n",
      "Epoch  31 Batch   10/38 - Train Accuracy: 0.4891, Validation Accuracy: 0.4597, Loss: 2.4253\n",
      "Epoch  31 Batch   20/38 - Train Accuracy: 0.4418, Validation Accuracy: 0.4800, Loss: 2.5255\n",
      "Epoch  31 Batch   30/38 - Train Accuracy: 0.5133, Validation Accuracy: 0.4559, Loss: 2.2411\n",
      "Epoch  32 Batch   10/38 - Train Accuracy: 0.4809, Validation Accuracy: 0.4587, Loss: 2.4117\n",
      "Epoch  32 Batch   20/38 - Train Accuracy: 0.4311, Validation Accuracy: 0.4584, Loss: 2.5260\n",
      "Epoch  32 Batch   30/38 - Train Accuracy: 0.5009, Validation Accuracy: 0.4431, Loss: 2.1879\n",
      "Epoch  33 Batch   10/38 - Train Accuracy: 0.4788, Validation Accuracy: 0.4519, Loss: 2.3450\n",
      "Epoch  33 Batch   20/38 - Train Accuracy: 0.4276, Validation Accuracy: 0.4562, Loss: 2.4627\n",
      "Epoch  33 Batch   30/38 - Train Accuracy: 0.5133, Validation Accuracy: 0.4472, Loss: 2.1611\n",
      "Epoch  34 Batch   10/38 - Train Accuracy: 0.4800, Validation Accuracy: 0.4625, Loss: 2.3087\n",
      "Epoch  34 Batch   20/38 - Train Accuracy: 0.4318, Validation Accuracy: 0.4491, Loss: 2.3953\n",
      "Epoch  34 Batch   30/38 - Train Accuracy: 0.5231, Validation Accuracy: 0.4622, Loss: 2.1458\n",
      "Epoch  35 Batch   10/38 - Train Accuracy: 0.4772, Validation Accuracy: 0.4647, Loss: 2.2842\n",
      "Epoch  35 Batch   20/38 - Train Accuracy: 0.4336, Validation Accuracy: 0.4528, Loss: 2.4159\n",
      "Epoch  35 Batch   30/38 - Train Accuracy: 0.5295, Validation Accuracy: 0.4691, Loss: 2.1452\n",
      "Epoch  36 Batch   10/38 - Train Accuracy: 0.4794, Validation Accuracy: 0.4669, Loss: 2.3372\n",
      "Epoch  36 Batch   20/38 - Train Accuracy: 0.4272, Validation Accuracy: 0.4569, Loss: 2.3911\n",
      "Epoch  36 Batch   30/38 - Train Accuracy: 0.5263, Validation Accuracy: 0.4616, Loss: 2.1150\n",
      "Epoch  37 Batch   10/38 - Train Accuracy: 0.4781, Validation Accuracy: 0.4781, Loss: 2.3301\n",
      "Epoch  37 Batch   20/38 - Train Accuracy: 0.4002, Validation Accuracy: 0.4253, Loss: 2.4030\n",
      "Epoch  37 Batch   30/38 - Train Accuracy: 0.5252, Validation Accuracy: 0.4562, Loss: 2.1363\n",
      "Epoch  38 Batch   10/38 - Train Accuracy: 0.4828, Validation Accuracy: 0.4744, Loss: 2.2404\n",
      "Epoch  38 Batch   20/38 - Train Accuracy: 0.4027, Validation Accuracy: 0.4294, Loss: 2.3798\n",
      "Epoch  38 Batch   30/38 - Train Accuracy: 0.5055, Validation Accuracy: 0.4462, Loss: 2.1306\n",
      "Epoch  39 Batch   10/38 - Train Accuracy: 0.4763, Validation Accuracy: 0.4603, Loss: 2.2195\n",
      "Epoch  39 Batch   20/38 - Train Accuracy: 0.4151, Validation Accuracy: 0.4397, Loss: 2.3565\n",
      "Epoch  39 Batch   30/38 - Train Accuracy: 0.5194, Validation Accuracy: 0.4625, Loss: 2.0769\n",
      "Epoch  40 Batch   10/38 - Train Accuracy: 0.4828, Validation Accuracy: 0.4662, Loss: 2.2567\n",
      "Epoch  40 Batch   20/38 - Train Accuracy: 0.4361, Validation Accuracy: 0.4559, Loss: 2.3982\n",
      "Epoch  40 Batch   30/38 - Train Accuracy: 0.5304, Validation Accuracy: 0.4631, Loss: 2.0596\n",
      "Epoch  41 Batch   10/38 - Train Accuracy: 0.4856, Validation Accuracy: 0.4681, Loss: 2.2846\n",
      "Epoch  41 Batch   20/38 - Train Accuracy: 0.4268, Validation Accuracy: 0.4575, Loss: 2.2651\n",
      "Epoch  41 Batch   30/38 - Train Accuracy: 0.5185, Validation Accuracy: 0.4456, Loss: 2.1157\n",
      "Epoch  42 Batch   10/38 - Train Accuracy: 0.4900, Validation Accuracy: 0.4734, Loss: 2.1730\n",
      "Epoch  42 Batch   20/38 - Train Accuracy: 0.4268, Validation Accuracy: 0.4587, Loss: 2.2355\n",
      "Epoch  42 Batch   30/38 - Train Accuracy: 0.5104, Validation Accuracy: 0.4469, Loss: 1.9929\n",
      "Epoch  43 Batch   10/38 - Train Accuracy: 0.4834, Validation Accuracy: 0.4641, Loss: 2.1069\n",
      "Epoch  43 Batch   20/38 - Train Accuracy: 0.4247, Validation Accuracy: 0.4531, Loss: 2.1933\n",
      "Epoch  43 Batch   30/38 - Train Accuracy: 0.5246, Validation Accuracy: 0.4641, Loss: 1.9473\n",
      "Epoch  44 Batch   10/38 - Train Accuracy: 0.4741, Validation Accuracy: 0.4625, Loss: 2.0662\n",
      "Epoch  44 Batch   20/38 - Train Accuracy: 0.4244, Validation Accuracy: 0.4522, Loss: 2.1412\n",
      "Epoch  44 Batch   30/38 - Train Accuracy: 0.5353, Validation Accuracy: 0.4766, Loss: 1.9299\n",
      "Epoch  45 Batch   10/38 - Train Accuracy: 0.4819, Validation Accuracy: 0.4650, Loss: 2.0500\n",
      "Epoch  45 Batch   20/38 - Train Accuracy: 0.4368, Validation Accuracy: 0.4688, Loss: 2.1284\n",
      "Epoch  45 Batch   30/38 - Train Accuracy: 0.5289, Validation Accuracy: 0.4728, Loss: 1.8904\n",
      "Epoch  46 Batch   10/38 - Train Accuracy: 0.4919, Validation Accuracy: 0.4728, Loss: 2.0333\n",
      "Epoch  46 Batch   20/38 - Train Accuracy: 0.4194, Validation Accuracy: 0.4509, Loss: 2.1389\n",
      "Epoch  46 Batch   30/38 - Train Accuracy: 0.5252, Validation Accuracy: 0.4647, Loss: 1.8748\n",
      "Epoch  47 Batch   10/38 - Train Accuracy: 0.4791, Validation Accuracy: 0.4544, Loss: 2.0924\n",
      "Epoch  47 Batch   20/38 - Train Accuracy: 0.3924, Validation Accuracy: 0.4341, Loss: 2.1053\n",
      "Epoch  47 Batch   30/38 - Train Accuracy: 0.5289, Validation Accuracy: 0.4597, Loss: 1.8813\n",
      "Model Trained and Saved\n"
     ]
    }
   ],
   "source": [
    "\"\"\"\n",
    "DON'T MODIFY ANYTHING IN THIS CELL\n",
    "\"\"\"\n",
    "def get_accuracy(target, logits):\n",
    "    \"\"\"\n",
    "    Calculate accuracy\n",
    "    \"\"\"\n",
    "    max_seq = max(target.shape[1], logits.shape[1])\n",
    "    if max_seq - target.shape[1]:\n",
    "        target = np.pad(\n",
    "            target,\n",
    "            [(0,0),(0,max_seq - target.shape[1])],\n",
    "            'constant')\n",
    "    if max_seq - logits.shape[1]:\n",
    "        logits = np.pad(\n",
    "            logits,\n",
    "            [(0,0),(0,max_seq - logits.shape[1])],\n",
    "            'constant')\n",
    "\n",
    "    return np.mean(np.equal(target, logits))\n",
    "\n",
    "# Split data to training and validation sets\n",
    "train_source = source_int_text[batch_size:]\n",
    "train_target = target_int_text[batch_size:]\n",
    "valid_source = source_int_text[:batch_size]\n",
    "valid_target = target_int_text[:batch_size]\n",
    "(valid_sources_batch, valid_targets_batch, valid_sources_lengths, valid_targets_lengths ) = next(get_batches(valid_source,\n",
    "                                                                                                             valid_target,\n",
    "                                                                                                             batch_size,\n",
    "                                                                                                             source_vocab_to_int['<PAD>'],\n",
    "                                                                                                             target_vocab_to_int['<PAD>']))                                                                                                  \n",
    "with tf.Session(graph=train_graph) as sess:\n",
    "    sess.run(tf.global_variables_initializer())\n",
    "\n",
    "    for epoch_i in range(epochs):\n",
    "        for batch_i, (source_batch, target_batch, sources_lengths, targets_lengths) in enumerate(\n",
    "                get_batches(train_source, train_target, batch_size,\n",
    "                            source_vocab_to_int['<PAD>'],\n",
    "                            target_vocab_to_int['<PAD>'])):\n",
    "\n",
    "            _, loss = sess.run(\n",
    "                [train_op, cost],\n",
    "                {input_data: source_batch,\n",
    "                 targets: target_batch,\n",
    "                 lr: learning_rate,\n",
    "                 target_sequence_length: targets_lengths,\n",
    "                 source_sequence_length: sources_lengths,\n",
    "                 keep_prob: keep_probability})\n",
    "\n",
    "\n",
    "            if batch_i % display_step == 0 and batch_i > 0:\n",
    "\n",
    "\n",
    "                batch_train_logits = sess.run(\n",
    "                    inference_logits,\n",
    "                    {input_data: source_batch,\n",
    "                     source_sequence_length: sources_lengths,\n",
    "                     target_sequence_length: targets_lengths,\n",
    "                     keep_prob: 1.0})\n",
    "\n",
    "\n",
    "                batch_valid_logits = sess.run(\n",
    "                    inference_logits,\n",
    "                    {input_data: valid_sources_batch,\n",
    "                     source_sequence_length: valid_sources_lengths,\n",
    "                     target_sequence_length: valid_targets_lengths,\n",
    "                     keep_prob: 1.0})\n",
    "\n",
    "                train_acc = get_accuracy(target_batch, batch_train_logits)\n",
    "\n",
    "                valid_acc = get_accuracy(valid_targets_batch, batch_valid_logits)\n",
    "\n",
    "                print('Epoch {:>3} Batch {:>4}/{} - Train Accuracy: {:>6.4f}, Validation Accuracy: {:>6.4f}, Loss: {:>6.4f}'\n",
    "                      .format(epoch_i, batch_i, len(source_int_text) // batch_size, train_acc, valid_acc, loss))\n",
    "\n",
    "    # Save Model\n",
    "    saver = tf.train.Saver()\n",
    "    saver.save(sess, save_path)\n",
    "    print('Model Trained and Saved')"
   ]
  },
  {
   "cell_type": "markdown",
   "metadata": {},
   "source": [
    "### Save Parameters\n",
    "Save the `batch_size` and `save_path` parameters for inference."
   ]
  },
  {
   "cell_type": "code",
   "execution_count": 81,
   "metadata": {},
   "outputs": [],
   "source": [
    "\"\"\"\n",
    "DON'T MODIFY ANYTHING IN THIS CELL\n",
    "\"\"\"\n",
    "# Save parameters for checkpoint\n",
    "helper.save_params(save_path)"
   ]
  },
  {
   "cell_type": "markdown",
   "metadata": {},
   "source": [
    "# Checkpoint"
   ]
  },
  {
   "cell_type": "code",
   "execution_count": 1,
   "metadata": {},
   "outputs": [],
   "source": [
    "\"\"\"\n",
    "DON'T MODIFY ANYTHING IN THIS CELL\n",
    "\"\"\"\n",
    "import tensorflow as tf\n",
    "import numpy as np\n",
    "import helper\n",
    "import problem_unittests as tests\n",
    "\n",
    "_, (source_vocab_to_int, target_vocab_to_int), (source_int_to_vocab, target_int_to_vocab) = helper.load_preprocess()\n",
    "load_path = helper.load_params()"
   ]
  },
  {
   "cell_type": "markdown",
   "metadata": {},
   "source": [
    "## Sentence to Sequence\n",
    "To feed a sentence into the model for translation, you first need to preprocess it.  Implement the function `sentence_to_seq()` to preprocess new sentences.\n",
    "\n",
    "- Convert the sentence to lowercase\n",
    "- Convert words into ids using `vocab_to_int`\n",
    " - Convert words not in the vocabulary, to the `<UNK>` word id."
   ]
  },
  {
   "cell_type": "code",
   "execution_count": 2,
   "metadata": {},
   "outputs": [
    {
     "name": "stdout",
     "output_type": "stream",
     "text": [
      "Tests Passed\n"
     ]
    }
   ],
   "source": [
    "def sentence_to_seq(sentence, vocab_to_int):\n",
    "    \"\"\"\n",
    "    Convert a sentence to a sequence of ids\n",
    "    :param sentence: String\n",
    "    :param vocab_to_int: Dictionary to go from the words to an id\n",
    "    :return: List of word ids\n",
    "    \"\"\"\n",
    "    # TODO: Implement Function\n",
    "    sent = sentence.lower()\n",
    "    words = sent.split()\n",
    "        \n",
    "    ##2. Convert words into ids \n",
    "    ids = [vocab_to_int.get(word, vocab_to_int['<UNK>']) for word in words]\n",
    "    \n",
    "    return list(ids)\n",
    "\n",
    "\n",
    "\"\"\"\n",
    "DON'T MODIFY ANYTHING IN THIS CELL THAT IS BELOW THIS LINE\n",
    "\"\"\"\n",
    "tests.test_sentence_to_seq(sentence_to_seq)"
   ]
  },
  {
   "cell_type": "markdown",
   "metadata": {},
   "source": [
    "## Translate\n",
    "This will translate `translate_sentence` from English to French."
   ]
  },
  {
   "cell_type": "code",
   "execution_count": 6,
   "metadata": {},
   "outputs": [],
   "source": [
    "abstracts = data.abstracts\n",
    "titles = data.titles\n",
    "indx = 9"
   ]
  },
  {
   "cell_type": "code",
   "execution_count": 9,
   "metadata": {},
   "outputs": [
    {
     "name": "stdout",
     "output_type": "stream",
     "text": [
      "INFO:tensorflow:Restoring parameters from checkpoints/dev\n",
      "Input\n",
      "  Word Ids:      [6051, 23222, 22827, 1853, 6359, 10285, 19335, 16124, 11220, 13842, 14330, 24074, 17090, 15675, 12688, 14880, 2874, 19623, 15675, 6051, 12722, 6490, 3617, 23007, 14627, 10285, 22661, 24435, 17686, 11659, 5546, 2835, 21181, 12212, 4513, 12688, 6307, 11659, 15504, 10285, 22661, 24435, 6051, 11153, 4131, 16124, 12195, 116, 1163, 18259, 20796, 873, 11881, 8481, 661, 22661, 13524, 11148]\n",
      "  Abstract: ['we', 'discuss', 'one', 'important', 'aspect', 'of', 'waldmeier', 'effect', 'which', 'says', 'that', 'the', 'stronger', 'cycles', 'rise', 'rapidly', 'than', 'weaker', 'cycles', 'we', 'studied', 'four', 'different', 'data', 'set', 'of', 'solar', 'activity', 'indices,', 'and', 'find', 'strong', 'linear', 'correlation', 'between', 'rise', 'rates', 'and', 'amplitudes', 'of', 'solar', 'activity', 'we', 'study', 'this', 'effect', 'theoretically', 'by', 'introducing', 'suitable', 'stochastic', 'fluctuations', 'in', 'our', 'regular', 'solar', 'dynamo', 'model']\n",
      "\n",
      "Prediction\n",
      "  Word Ids:      [2813, 3612, 3740, 4576, 3587, 697, 3740, 4576, 3236, 4933, 1]\n",
      "  Predicted Title: a role of the inner neptunian of the solar system <EOS>\n"
     ]
    }
   ],
   "source": [
    "translate_sentence = abstracts[indx]\n",
    "\n",
    "\n",
    "\"\"\"\n",
    "DON'T MODIFY ANYTHING IN THIS CELL\n",
    "\"\"\"\n",
    "translate_sentence = sentence_to_seq(translate_sentence, source_vocab_to_int)\n",
    "\n",
    "loaded_graph = tf.Graph()\n",
    "with tf.Session(graph=loaded_graph) as sess:\n",
    "    # Load saved model\n",
    "    loader = tf.train.import_meta_graph(load_path + '.meta')\n",
    "    loader.restore(sess, load_path)\n",
    "\n",
    "    input_data = loaded_graph.get_tensor_by_name('input:0')\n",
    "    logits = loaded_graph.get_tensor_by_name('predictions:0')\n",
    "    target_sequence_length = loaded_graph.get_tensor_by_name('target_sequence_length:0')\n",
    "    source_sequence_length = loaded_graph.get_tensor_by_name('source_sequence_length:0')\n",
    "    keep_prob = loaded_graph.get_tensor_by_name('keep_prob:0')\n",
    "\n",
    "    translate_logits = sess.run(logits, {input_data: [translate_sentence]*batch_size,\n",
    "                                         target_sequence_length: [len(translate_sentence)*2]*batch_size,\n",
    "                                         source_sequence_length: [len(translate_sentence)]*batch_size,\n",
    "                                         keep_prob: 1.0})[0]\n",
    "\n",
    "print('Input')\n",
    "print('  Word Ids:      {}'.format([i for i in translate_sentence]))\n",
    "print('  Abstract: {}'.format([source_int_to_vocab[i] for i in translate_sentence]))\n",
    "\n",
    "print('\\nPrediction')\n",
    "print('  Word Ids:      {}'.format([i for i in translate_logits]))\n",
    "print('  Predicted Title: {}'.format(\" \".join([target_int_to_vocab[i] for i in translate_logits])))\n"
   ]
  },
  {
   "cell_type": "code",
   "execution_count": 10,
   "metadata": {},
   "outputs": [
    {
     "data": {
      "text/plain": [
       "'correlation between the rise rate and the amplitude of the solar magnetic cycles'"
      ]
     },
     "execution_count": 10,
     "metadata": {},
     "output_type": "execute_result"
    }
   ],
   "source": [
    "titles[9]"
   ]
  },
  {
   "cell_type": "markdown",
   "metadata": {},
   "source": [
    "generated_titles = []\n",
    "for abstract in abstracts:\n",
    "    translate_sentence = abstract\n",
    "\n",
    "\n",
    "    \"\"\"\n",
    "    DON'T MODIFY ANYTHING IN THIS CELL\n",
    "    \"\"\"\n",
    "    translate_sentence = sentence_to_seq(translate_sentence, source_vocab_to_int)\n",
    "\n",
    "    loaded_graph = tf.Graph()\n",
    "    with tf.Session(graph=loaded_graph) as sess:\n",
    "        # Load saved model\n",
    "        loader = tf.train.import_meta_graph(load_path + '.meta')\n",
    "        loader.restore(sess, load_path)\n",
    "\n",
    "        input_data = loaded_graph.get_tensor_by_name('input:0')\n",
    "        logits = loaded_graph.get_tensor_by_name('predictions:0')\n",
    "        target_sequence_length = loaded_graph.get_tensor_by_name('target_sequence_length:0')\n",
    "        source_sequence_length = loaded_graph.get_tensor_by_name('source_sequence_length:0')\n",
    "        keep_prob = loaded_graph.get_tensor_by_name('keep_prob:0')\n",
    "\n",
    "        translate_logits = sess.run(logits, {input_data: [translate_sentence]*batch_size,\n",
    "                                             target_sequence_length: [len(translate_sentence)*2]*batch_size,\n",
    "                                             source_sequence_length: [len(translate_sentence)]*batch_size,\n",
    "                                             keep_prob: 1.0})[0]\n",
    "\n",
    "    #print('Input')\n",
    "    #print('  Word Ids:      {}'.format([i for i in translate_sentence]))\n",
    "    #print('  Abstract: {}'.format([source_int_to_vocab[i] for i in translate_sentence]))\n",
    "\n",
    "    #print('\\nPrediction')\n",
    "    #print('  Word Ids:      {}'.format([i for i in translate_logits]))\n",
    "    #print('  Predicted Title: {}'.format(\" \".join([target_int_to_vocab[i] for i in translate_logits])))\n",
    "\n",
    "    generated_titles.append(\" \".join([target_int_to_vocab[i] for i in translate_logits]))"
   ]
  },
  {
   "cell_type": "code",
   "execution_count": 20,
   "metadata": {},
   "outputs": [
    {
     "data": {
      "text/html": [
       "<div>\n",
       "<style>\n",
       "    .dataframe thead tr:only-child th {\n",
       "        text-align: right;\n",
       "    }\n",
       "\n",
       "    .dataframe thead th {\n",
       "        text-align: left;\n",
       "    }\n",
       "\n",
       "    .dataframe tbody tr th {\n",
       "        vertical-align: top;\n",
       "    }\n",
       "</style>\n",
       "<table border=\"1\" class=\"dataframe\">\n",
       "  <thead>\n",
       "    <tr style=\"text-align: right;\">\n",
       "      <th></th>\n",
       "      <th>generated_title</th>\n",
       "      <th>original_titles</th>\n",
       "    </tr>\n",
       "  </thead>\n",
       "  <tbody>\n",
       "    <tr>\n",
       "      <th>0</th>\n",
       "      <td>the surface survey of the kuiper belt &lt;EOS&gt;</td>\n",
       "      <td>the size distribution of the neptune trojans a...</td>\n",
       "    </tr>\n",
       "    <tr>\n",
       "      <th>1</th>\n",
       "      <td>the harps search of the solar system in the ex...</td>\n",
       "      <td>protons in the near lunar wake observed by the...</td>\n",
       "    </tr>\n",
       "    <tr>\n",
       "      <th>2</th>\n",
       "      <td>the effects of the solar system of the solar s...</td>\n",
       "      <td>effect of ambipolar diffusion on the non linea...</td>\n",
       "    </tr>\n",
       "    <tr>\n",
       "      <th>3</th>\n",
       "      <td>a harps search for the solar system around the...</td>\n",
       "      <td>a non potential model for the suns open magnet...</td>\n",
       "    </tr>\n",
       "    <tr>\n",
       "      <th>4</th>\n",
       "      <td>the harps search of the kepler deficiency of t...</td>\n",
       "      <td>a college level inquiry based laboratory activ...</td>\n",
       "    </tr>\n",
       "  </tbody>\n",
       "</table>\n",
       "</div>"
      ],
      "text/plain": [
       "                                     generated_title  \\\n",
       "0        the surface survey of the kuiper belt <EOS>   \n",
       "1  the harps search of the solar system in the ex...   \n",
       "2  the effects of the solar system of the solar s...   \n",
       "3  a harps search for the solar system around the...   \n",
       "4  the harps search of the kepler deficiency of t...   \n",
       "\n",
       "                                     original_titles  \n",
       "0  the size distribution of the neptune trojans a...  \n",
       "1  protons in the near lunar wake observed by the...  \n",
       "2  effect of ambipolar diffusion on the non linea...  \n",
       "3  a non potential model for the suns open magnet...  \n",
       "4  a college level inquiry based laboratory activ...  "
      ]
     },
     "execution_count": 20,
     "metadata": {},
     "output_type": "execute_result"
    }
   ],
   "source": [
    "# Create and save dataframe of original and generated titles\n",
    "# Note the above cell was converted from code cell to markdown cell\n",
    "df = pd.DataFrame({'original_titles': titles, 'generated_title': generated_titles})\n",
    "df.to_csv('original_generated_titles.csv')\n",
    "df.head()"
   ]
  },
  {
   "cell_type": "code",
   "execution_count": null,
   "metadata": {},
   "outputs": [],
   "source": []
  }
 ],
 "metadata": {
  "anaconda-cloud": {},
  "kernelspec": {
   "display_name": "Python 3",
   "language": "python",
   "name": "python3"
  },
  "language_info": {
   "codemirror_mode": {
    "name": "ipython",
    "version": 3
   },
   "file_extension": ".py",
   "mimetype": "text/x-python",
   "name": "python",
   "nbconvert_exporter": "python",
   "pygments_lexer": "ipython3",
   "version": "3.5.2"
  }
 },
 "nbformat": 4,
 "nbformat_minor": 1
}
